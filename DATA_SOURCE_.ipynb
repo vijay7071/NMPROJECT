{
  "nbformat": 4,
  "nbformat_minor": 0,
  "metadata": {
    "colab": {
      "provenance": []
    },
    "kernelspec": {
      "name": "python3",
      "display_name": "Python 3"
    },
    "language_info": {
      "name": "python"
    }
  },
  "cells": [
    {
      "cell_type": "code",
      "source": [
        "!pip install alpha_vantage"
      ],
      "metadata": {
        "colab": {
          "base_uri": "https://localhost:8080/"
        },
        "id": "3QZ1O28TiRIx",
        "outputId": "b207770c-5e32-4efe-cf90-9c53f65cfb5b"
      },
      "execution_count": 2,
      "outputs": [
        {
          "output_type": "stream",
          "name": "stdout",
          "text": [
            "Collecting alpha_vantage\n",
            "  Downloading alpha_vantage-3.0.0-py3-none-any.whl.metadata (12 kB)\n",
            "Requirement already satisfied: aiohttp in /usr/local/lib/python3.11/dist-packages (from alpha_vantage) (3.11.15)\n",
            "Requirement already satisfied: requests in /usr/local/lib/python3.11/dist-packages (from alpha_vantage) (2.32.3)\n",
            "Requirement already satisfied: aiohappyeyeballs>=2.3.0 in /usr/local/lib/python3.11/dist-packages (from aiohttp->alpha_vantage) (2.6.1)\n",
            "Requirement already satisfied: aiosignal>=1.1.2 in /usr/local/lib/python3.11/dist-packages (from aiohttp->alpha_vantage) (1.3.2)\n",
            "Requirement already satisfied: attrs>=17.3.0 in /usr/local/lib/python3.11/dist-packages (from aiohttp->alpha_vantage) (25.3.0)\n",
            "Requirement already satisfied: frozenlist>=1.1.1 in /usr/local/lib/python3.11/dist-packages (from aiohttp->alpha_vantage) (1.6.0)\n",
            "Requirement already satisfied: multidict<7.0,>=4.5 in /usr/local/lib/python3.11/dist-packages (from aiohttp->alpha_vantage) (6.4.3)\n",
            "Requirement already satisfied: propcache>=0.2.0 in /usr/local/lib/python3.11/dist-packages (from aiohttp->alpha_vantage) (0.3.1)\n",
            "Requirement already satisfied: yarl<2.0,>=1.17.0 in /usr/local/lib/python3.11/dist-packages (from aiohttp->alpha_vantage) (1.20.0)\n",
            "Requirement already satisfied: charset-normalizer<4,>=2 in /usr/local/lib/python3.11/dist-packages (from requests->alpha_vantage) (3.4.1)\n",
            "Requirement already satisfied: idna<4,>=2.5 in /usr/local/lib/python3.11/dist-packages (from requests->alpha_vantage) (3.10)\n",
            "Requirement already satisfied: urllib3<3,>=1.21.1 in /usr/local/lib/python3.11/dist-packages (from requests->alpha_vantage) (2.4.0)\n",
            "Requirement already satisfied: certifi>=2017.4.17 in /usr/local/lib/python3.11/dist-packages (from requests->alpha_vantage) (2025.4.26)\n",
            "Downloading alpha_vantage-3.0.0-py3-none-any.whl (35 kB)\n",
            "Installing collected packages: alpha_vantage\n",
            "Successfully installed alpha_vantage-3.0.0\n"
          ]
        }
      ]
    },
    {
      "cell_type": "code",
      "execution_count": 3,
      "metadata": {
        "colab": {
          "base_uri": "https://localhost:8080/"
        },
        "id": "z7M8UfCJh3-1",
        "outputId": "6c9c7af5-8dc0-4f17-ff0a-f2f46134a34b"
      },
      "outputs": [
        {
          "output_type": "stream",
          "name": "stdout",
          "text": [
            "Downloading AAPL data...\n",
            "Error downloading AAPL: Thank you for using Alpha Vantage! This is a premium endpoint. You may subscribe to any of the premium plans at https://www.alphavantage.co/premium/ to instantly unlock all premium endpoints\n",
            "Downloading TSLA data...\n",
            "Error downloading TSLA: Thank you for using Alpha Vantage! This is a premium endpoint. You may subscribe to any of the premium plans at https://www.alphavantage.co/premium/ to instantly unlock all premium endpoints\n"
          ]
        }
      ],
      "source": [
        "from alpha_vantage.timeseries import TimeSeries\n",
        "import pandas as pd\n",
        "import time\n",
        "\n",
        "API_KEY = '7EUC0Z3QS6OXLAQ0'  # Replace with your real API key\n",
        "tickers = ['AAPL', 'TSLA']\n",
        "\n",
        "def get_alpha_vantage_data(symbol):\n",
        "    ts = TimeSeries(key=API_KEY, output_format='pandas')\n",
        "    data, meta_data = ts.get_daily_adjusted(symbol=symbol, outputsize='full')\n",
        "    data.index = pd.to_datetime(data.index)\n",
        "    data = data.sort_index()  # Sort by date ascending\n",
        "    data = data.loc[(data.index >= '2015-01-01') & (data.index <= '2030-04-12')]\n",
        "    return data\n",
        "\n",
        "# Dictionary to hold all data\n",
        "all_data = {}\n",
        "\n",
        "for ticker in tickers:\n",
        "    try:\n",
        "        print(f\"Downloading {ticker} data...\")\n",
        "        data = get_alpha_vantage_data(ticker)\n",
        "        all_data[ticker] = data\n",
        "        time.sleep(12)  # To respect free API rate limits (5 calls/minute)\n",
        "    except Exception as e:\n",
        "        print(f\"Error downloading {ticker}: {e}\")\n",
        "\n",
        "# Example: show last 10 rows of each ticker\n",
        "for ticker, df in all_data.items():\n",
        "    print(f\"\\nLast 10 rows of {ticker}:\")\n",
        "    print(df.tail(10))\n"
      ]
    }
  ]
}